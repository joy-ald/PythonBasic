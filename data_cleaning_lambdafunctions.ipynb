{
  "nbformat": 4,
  "nbformat_minor": 0,
  "metadata": {
    "colab": {
      "provenance": [],
      "authorship_tag": "ABX9TyN6IRbaUjyVRp4cVTzMaAmC",
      "include_colab_link": true
    },
    "kernelspec": {
      "name": "python3",
      "display_name": "Python 3"
    },
    "language_info": {
      "name": "python"
    }
  },
  "cells": [
    {
      "cell_type": "markdown",
      "metadata": {
        "id": "view-in-github",
        "colab_type": "text"
      },
      "source": [
        "<a href=\"https://colab.research.google.com/github/joy-ald/PythonBasic/blob/main/data_cleaning_lambdafunctions.ipynb\" target=\"_parent\"><img src=\"https://colab.research.google.com/assets/colab-badge.svg\" alt=\"Open In Colab\"/></a>"
      ]
    },
    {
      "cell_type": "code",
      "execution_count": null,
      "metadata": {
        "id": "QcjZKnbWRMLU"
      },
      "outputs": [],
      "source": [
        "import pandas as pd\n",
        "\n",
        "# Sample DataFrame\n",
        "data = {\n",
        "    'column_name': ['  Hello  ', ' World ', None, 'Pandas', '  Python  '],\n",
        "    'value': [150, 50, 30, 200, 75],\n",
        "    'date_column': ['2023-01-01', 'not_a_date', '2023-03-01', None, '2023-05-01']\n",
        "}\n",
        "\n",
        "df = pd.DataFrame(data)\n",
        "\n",
        "# 1. Remove whitespace\n",
        "df['column_name'] = df['column_name'].apply(lambda x: x.strip() if isinstance(x, str) else x)\n",
        "\n",
        "# 2. Convert to lowercase\n",
        "df['column_name'] = df['column_name'].apply(lambda x: x.lower() if isinstance(x, str) else x)\n",
        "\n",
        "# 3. Replace missing values\n",
        "df['column_name'] = df['column_name'].apply(lambda x: x if pd.notnull(x) else 'default_value')\n",
        "\n",
        "# 4. Filter rows\n",
        "filtered_df = df[df['value'].apply(lambda x: x > 100)]\n",
        "\n",
        "# 5. Extract substrings\n",
        "df['new_column'] = df['column_name'].apply(lambda x: x.split('-')[0] if '-' in x else x)\n",
        "\n",
        "# 6. Type conversion\n",
        "df['value'] = df['value'].apply(lambda x: int(x) if isinstance(x, (int, float)) else 0)\n",
        "\n",
        "# 7. Apply conditions\n",
        "df['category'] = df['value'].apply(lambda x: 'High' if x > 100 else 'Low')\n",
        "\n",
        "# 8. Create categories\n",
        "df['size_category'] = df['value'].apply(lambda x: 'Large' if x > 100 else 'Small')\n",
        "\n",
        "# 9. Date formatting\n",
        "df['date_column'] = df['date_column'].apply(lambda x: pd.to_datetime(x, errors='coerce'))\n",
        "\n",
        "# 10. Combine columns\n",
        "df['combined'] = df.apply(lambda row: f\"{row['column_name']}_{row['value']}\", axis=1)\n",
        "\n",
        "# Display the cleaned DataFrame\n",
        "print(df)\n"
      ]
    }
  ]
}