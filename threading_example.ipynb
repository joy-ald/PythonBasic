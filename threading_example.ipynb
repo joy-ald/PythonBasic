{
  "nbformat": 4,
  "nbformat_minor": 0,
  "metadata": {
    "colab": {
      "provenance": [],
      "name": "threading_example.ipynb",
      "authorship_tag": "ABX9TyNS/CJM2LEmEATdpp83/5Cc",
      "include_colab_link": true
    },
    "kernelspec": {
      "name": "python3",
      "display_name": "Python 3"
    },
    "language_info": {
      "name": "python"
    }
  },
  "cells": [
    {
      "cell_type": "markdown",
      "metadata": {
        "id": "view-in-github",
        "colab_type": "text"
      },
      "source": [
        "<a href=\"https://colab.research.google.com/github/joy-ald/PythonBasic/blob/main/threading_example.ipynb\" target=\"_parent\"><img src=\"https://colab.research.google.com/assets/colab-badge.svg\" alt=\"Open In Colab\"/></a>"
      ]
    },
    {
      "cell_type": "code",
      "execution_count": null,
      "metadata": {
        "id": "12UG763iYizl",
        "colab": {
          "base_uri": "https://localhost:8080/"
        },
        "outputId": "070d19b0-8d8d-4771-df2f-41934209a4ef"
      },
      "outputs": [
        {
          "output_type": "stream",
          "name": "stdout",
          "text": [
            "Thread-1 - Count: 1\n",
            "Thread-2 - Count: 1\n",
            "Thread-3 - Count: 1\n",
            "Thread-4 - Count: 1\n",
            "Thread-5 - Count: 1\n",
            "Thread-1 - Count: 2\n",
            "Thread-2 - Count: 2\n",
            "Thread-3 - Count: 2\n",
            "Thread-4 - Count: 2\n",
            "Thread-5 - Count: 2\n",
            "Thread-1 - Count: 3\n",
            "Thread-2 - Count: 3\n",
            "Thread-3 - Count: 3\n",
            "Thread-4 - Count: 3\n",
            "Thread-5 - Count: 3\n",
            "Thread-1 - Count: 4\n",
            "Thread-2 - Count: 4\n",
            "Thread-3 - Count: 4\n",
            "Thread-4 - Count: 4\n",
            "Thread-5 - Count: 4\n",
            "Thread-1 - Count: 5\n",
            "Thread-2 - Count: 5\n",
            "Thread-3 - Count: 5\n",
            "Thread-5 - Count: 5\n",
            "Thread-4 - Count: 5\n",
            "All threads have finished executing.\n"
          ]
        }
      ],
      "source": [
        "import threading\n",
        "import time\n",
        "\n",
        "# Function that will run in each thread\n",
        "def thread_task(thread_name, count):\n",
        "    for i in range(count):\n",
        "        time.sleep(1)  # Simulating a time-consuming task\n",
        "        print(f\"{thread_name} - Count: {i + 1}\")\n",
        "\n",
        "# List to hold threads\n",
        "threads = []\n",
        "\n",
        "# Creating threads\n",
        "for i in range(5):  # Create 5 threads\n",
        "    thread_name = f\"Thread-{i + 1}\"\n",
        "    thread = threading.Thread(target=thread_task, args=(thread_name, 5))\n",
        "    threads.append(thread)\n",
        "    thread.start()  # Start the thread\n",
        "\n",
        "# Wait for all threads to complete\n",
        "for thread in threads:\n",
        "    thread.join()\n",
        "\n",
        "print(\"All threads have finished executing.\")\n"
      ]
    }
  ]
}